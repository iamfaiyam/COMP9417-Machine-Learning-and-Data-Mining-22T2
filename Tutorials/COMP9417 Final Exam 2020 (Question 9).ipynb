{
 "cells": [
  {
   "cell_type": "markdown",
   "metadata": {},
   "source": [
    "### Question 9 (Train Perceptron)"
   ]
  },
  {
   "cell_type": "code",
   "execution_count": 1,
   "metadata": {},
   "outputs": [],
   "source": [
    "import itertools\n",
    "import numpy as np "
   ]
  },
  {
   "cell_type": "code",
   "execution_count": 5,
   "metadata": {},
   "outputs": [],
   "source": [
    "def perceptron(X, y, max_iter = 10000):\n",
    "    np.random.seed(1)\n",
    "    w = np.zeros(X.shape[1])\n",
    "    ctr = 0 \n",
    "    for _ in range(max_iter): \n",
    "        # check which indices we make mistakes on, and pick one randomly to update \n",
    "        yXw = (y * X) @ w.T\n",
    "        mistake_idxs = np.where(yXw <= 0)[0]\n",
    "        if mistake_idxs.size > 0:\n",
    "            ctr += 1\n",
    "            i = np.random.choice(mistake_idxs) # pick idx randomly\n",
    "            w = w + y[i] * X[i] # update w \n",
    "            \n",
    "    return w, ctr, 'separable' if ctr < max_iter else 'not separable'"
   ]
  },
  {
   "cell_type": "code",
   "execution_count": 6,
   "metadata": {},
   "outputs": [
    {
     "data": {
      "text/plain": [
       "(array([-2.,  0.,  4., -1.]), 100000, 'not separable')"
      ]
     },
     "execution_count": 6,
     "metadata": {},
     "output_type": "execute_result"
    }
   ],
   "source": [
    "# (i) \n",
    "X = np.array(list(itertools.product([0, 1], repeat = 3)))\n",
    "X = np.hstack((np.ones(X.shape[0]).reshape(-1, 1), X))\n",
    "Y = np.array([-1, -1, 1, 1, 1, -1, -1, 1]).reshape(-1, 1) \n",
    "w, ctr, iters = perceptron(X, Y, max_iter = 100000)\n",
    "w, ctr, iters"
   ]
  },
  {
   "cell_type": "code",
   "execution_count": 7,
   "metadata": {},
   "outputs": [
    {
     "data": {
      "text/plain": [
       "(array([-2.,  0., -3.,  1.]), 100000, 'not separable')"
      ]
     },
     "execution_count": 7,
     "metadata": {},
     "output_type": "execute_result"
    }
   ],
   "source": [
    "# (ii) \n",
    "X = np.array(list(itertools.product([0, 1], repeat = 3)))\n",
    "X = np.hstack((np.ones(X.shape[0]).reshape(-1, 1), X))\n",
    "Y = np.array([-1, -1, -1, 1, 1, 1, -1, -1]).reshape(-1, 1) \n",
    "w, ctr, iters = perceptron(X, Y, max_iter = 100000)\n",
    "w, ctr, iters"
   ]
  },
  {
   "cell_type": "code",
   "execution_count": 8,
   "metadata": {},
   "outputs": [
    {
     "data": {
      "text/plain": [
       "(array([-1.,  2.,  4., -2., -2.]), 17, 'separable')"
      ]
     },
     "execution_count": 8,
     "metadata": {},
     "output_type": "execute_result"
    }
   ],
   "source": [
    "# (iii) \n",
    "X = np.array(list(itertools.product([0, 1], repeat = 4)))\n",
    "X = np.hstack((np.ones(X.shape[0]).reshape(-1, 1), X))\n",
    "Y = np.array([-1, -1, -1, -1, 1, 1, 1, -1, 1, -1, -1, -1, 1, 1, 1, 1]).reshape(-1, 1) \n",
    "w, ctr, iters = perceptron(X, Y, max_iter = 100000)\n",
    "w, ctr, iters"
   ]
  },
  {
   "cell_type": "code",
   "execution_count": 10,
   "metadata": {},
   "outputs": [
    {
     "data": {
      "text/plain": [
       "(array([ 1., -4., -4., -5., -2., -5.,  2.]), 53, 'separable')"
      ]
     },
     "execution_count": 10,
     "metadata": {},
     "output_type": "execute_result"
    }
   ],
   "source": [
    "# (iv) \n",
    "X = np.array(list(itertools.product([0, 1], repeat = 6)))\n",
    "X = np.hstack((np.ones(X.shape[0]).reshape(-1, 1), X))\n",
    "Y = -1 * np.ones(X.shape[0])\n",
    "Y[0] = 1\n",
    "Y[1] = 1\n",
    "Y[5] = 1\n",
    "Y = Y.reshape(-1, 1) \n",
    "w, ctr, iters = perceptron(X, Y, max_iter = 100000)\n",
    "w, ctr, iters"
   ]
  }
 ],
 "metadata": {
  "kernelspec": {
   "display_name": "Python 3",
   "language": "python",
   "name": "python3"
  },
  "language_info": {
   "codemirror_mode": {
    "name": "ipython",
    "version": 3
   },
   "file_extension": ".py",
   "mimetype": "text/x-python",
   "name": "python",
   "nbconvert_exporter": "python",
   "pygments_lexer": "ipython3",
   "version": "3.7.6"
  }
 },
 "nbformat": 4,
 "nbformat_minor": 4
}
